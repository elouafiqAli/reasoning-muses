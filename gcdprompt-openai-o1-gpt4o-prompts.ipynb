{
 "cells": [
  {
   "cell_type": "markdown",
   "id": "f8843ac9-d00d-4107-bc09-ed40e9b51922",
   "metadata": {
    "id": "FbWoGOis4KoG"
   },
   "source": [
    "# Prompting O1 Models"
   ]
  },
  {
   "cell_type": "code",
   "execution_count": 2,
   "id": "c81d46bd-e8c0-4006-af38-e055a1a03a17",
   "metadata": {
    "height": 132
   },
   "outputs": [],
   "source": [
    "# Warning control\n",
    "import warnings\n",
    "warnings.filterwarnings('ignore')\n",
    "\n",
    "# Import OpenAI key\n",
    "from helper import get_openai_api_key\n",
    "openai_api_key = get_openai_api_key()"
   ]
  },
  {
   "cell_type": "code",
   "execution_count": 22,
   "id": "59652cd3-5329-4845-b0b2-a177a9267a60",
   "metadata": {
    "height": 132
   },
   "outputs": [],
   "source": [
    "import json\n",
    "from IPython.display import display, Markdown, HTML\n",
    "from openai import OpenAI\n",
    "\n",
    "client = OpenAI(api_key=openai_api_key)\n",
    "GPT_4o_MODEL = 'gpt-4o' # gpt-4o-2024-08-06\n",
    "O1_MODEL = 'o1' # o1-2024-12-17\n",
    "gcd_prompt = (\"write gcd algorithm using typetheory\")"
   ]
  },
  {
   "cell_type": "markdown",
   "id": "4b220c1c-5cce-4507-b3e6-3fdbe1499c62",
   "metadata": {},
   "source": [
    "### PROMPTING"
   ]
  },
  {
   "cell_type": "code",
   "execution_count": 23,
   "id": "95bcbd34-1630-4ca7-9f66-a0c1802183af",
   "metadata": {
    "height": 62
   },
   "outputs": [
    {
     "name": "stdout",
     "output_type": "stream",
     "text": [
      "Below is a simple illustrative example of how one might define the greatest common divisor (gcd) function in a dependently-typed setting—specifically, using Coq.  In Coq (a proof assistant based on the Calculus of Inductive Constructions), functions must be total and terminating.  The Euclidean algorithm, although terminating in practice, is not obviously so to Coq’s structural recursion checker, so we use a well‐founded recursion (via Program Fixpoint) to convince Coq of termination.\n",
      "\n",
      "--------------------------------------------------------------------------------\n",
      "Require Import Coq.Arith.Arith.\n",
      "Require Import Coq.Arith.PeanoNat.\n",
      "Require Import Coq.Program.Wf.\n",
      "Require Import Lia.\n",
      "\n",
      "(****************************************************************************\n",
      " * We measure the \"size\" of the problem by (m + n). At each recursive step, *\n",
      " * the sum (n + (m mod n)) is strictly smaller than the original (m + n),    *\n",
      " * ensuring well-foundedness.                                               *\n",
      " ****************************************************************************)\n",
      "\n",
      "Program Fixpoint gcd (m n : nat) {measure (m + n)} : nat :=\n",
      "  match n with\n",
      "  | 0 => m\n",
      "  | _ => gcd n (m mod n)\n",
      "  end.\n",
      "Next Obligation.\n",
      "  (* Here we must prove (n + (m mod n)) < (m + n). *)\n",
      "  (* Using the fact that \"m mod n < n\", we get (m mod n) + n < n + n <= m + n,  *)\n",
      "  (* which is sufficient to prove the recursive call is on a smaller measure. *)\n",
      "  apply Nat.add_lt_le_mono.\n",
      "  - apply Nat.mod_upper_bound. lia.\n",
      "  - apply le_n.\n",
      "Qed.\n",
      "\n",
      "(****************************************************************************\n",
      " * Once defined, we can prove typical properties of gcd, such as symmetry,   *\n",
      " * associativity, or that it actually divides the arguments. Below is a      *\n",
      " * simple example proof that gcd is commutative.                             *\n",
      " ****************************************************************************)\n",
      "\n",
      "Lemma gcd_comm : forall m n, gcd m n = gcd n m.\n",
      "Proof.\n",
      "  intros m n.\n",
      "  (* A typical proof may proceed by well-founded induction on m+n, or         *)\n",
      "  (* exploit known lemmas about gcd and properties of mod.                   *)\n",
      "  (* For brevity, we rely on standard library lemmas: *)\n",
      "  apply Nat.gcd_comm.\n",
      "Qed.\n",
      "--------------------------------------------------------------------------------\n",
      "\n",
      "Explanation of key points:\n",
      "\n",
      "1. Totality and termination in type theory:\n",
      "   In Coq, every function must be terminating.  The usual Euclidean algorithm:\n",
      "       gcd(m, n) = if n = 0 then m else gcd(n, m mod n)\n",
      "   needs a justification for termination.  Here, we give Coq a “measure” (m + n) and show it strictly decreases under recursion.\n",
      "\n",
      "2. Program Fixpoint:\n",
      "   Program Fixpoint is a Coq feature that allows us to write the function definition in a familiar style, while automatically generating “obligation” subgoals about termination.  We then prove these subgoals, typically using properties of the mod function and natural numbers.\n",
      "\n",
      "3. Typical gcd properties:\n",
      "   After defining gcd, one normally proves correctness properties, such as:\n",
      "   – gcd_divides_left: gcd m n divides m\n",
      "   – gcd_divides_right: gcd m n divides n\n",
      "   – gcd_comm: gcd m n = gcd n m\n",
      "   – gcd_assoc: gcd m (gcd n p) = gcd (gcd m n) p\n",
      "   – etc.\n",
      "\n",
      "This demonstrates how one can write (and justify) the gcd algorithm in a dependently-typed setting using Coq. The same ideas apply in other proof assistants (e.g., Agda, Lean) with slight syntactic variations but the same core principle: proving termination and verifying correctness via types (or propositions) rather than just trusting recursion.\n"
     ]
    }
   ],
   "source": [
    "\n",
    "response = client.chat.completions.create(model=O1_MODEL,messages=[{\"role\":\"user\",\"content\": gcd_prompt}])\n",
    "print(response.choices[0].message.content)"
   ]
  },
  {
   "cell_type": "code",
   "execution_count": 24,
   "id": "bacd2a82",
   "metadata": {
    "height": 47
   },
   "outputs": [
    {
     "name": "stdout",
     "output_type": "stream",
     "text": [
      "In type theory, algorithms are often expressed in a functional style using languages that support dependently typed programming, such as Coq, Agda, or Idris. These languages allow us to encode mathematical properties and proofs directly into the type system.\n",
      "\n",
      "Here is an example of a GCD algorithm using a type-theoretic approach, written in Idris, which is one of the languages designed for dependently typed programming:\n",
      "\n",
      "```idris\n",
      "module GCD\n",
      "\n",
      "-- Euclidean algorithm for finding the GCD of two non-negative integers.\n",
      "\n",
      "-- Define a total function for computing the GCD\n",
      "gcd : (m, n : Nat) -> Nat\n",
      "gcd m 0 = m\n",
      "gcd m n = gcd n (m `mod` n)\n",
      "\n",
      "-- Here, the `mod` operator returns the remainder of dividing `m` by `n`\n",
      "\n",
      "-- We can provide a proof that the result is non-negative and is indeed\n",
      "-- the greatest divisor of both numbers using Idris's dependent types,\n",
      "-- but for simplicity, here's just the function itself.\n",
      "\n",
      "-- Example usage:\n",
      "-- gcd 48 18\n",
      "-- This should evaluate to 6\n",
      "```\n",
      "\n",
      "### Explanation:\n",
      "\n",
      "- **Type Declaration:** The type of the function `gcd` is `(m, n : Nat) -> Nat`. This signifies that it takes two natural numbers (non-negative integers) and returns a natural number.\n",
      "\n",
      "- **Base Case:** When `n` is `0`, the GCD is `m`. In the Euclidean algorithm, if one of the numbers is `0`, the GCD is the other number.\n",
      "\n",
      "- **Recursive Case:** When `n` is not `0`, we call `gcd` recursively with `n` and `m `mod` n` until we reach the base case. This is the essence of the Euclidean algorithm, which repeatedly replaces the larger number by its remainder when divided by the smaller number.\n",
      "\n",
      "- **Totality:** In Idris and similar languages, functions must be total, meaning they are defined for all possible inputs and always produce an output. The pattern matching on `0` ensures that the function is total.\n",
      "\n",
      "In more advanced examples, you could use dependent types to provide machine-checkable proofs of properties such as the returned value truly being the greatest common divisor of the inputs. However, this requires a deeper integration of Idris’s proof capabilities and is more complex.\n"
     ]
    }
   ],
   "source": [
    "response = client.chat.completions.create(model=GPT_4o_MODEL,messages=[{\"role\":\"user\",\"content\": gcd_prompt}])\n",
    "print(response.choices[0].message.content)"
   ]
  }
 ],
 "metadata": {
  "kernelspec": {
   "display_name": "Python 3 (ipykernel)",
   "language": "python",
   "name": "python3"
  },
  "language_info": {
   "codemirror_mode": {
    "name": "ipython",
    "version": 3
   },
   "file_extension": ".py",
   "mimetype": "text/x-python",
   "name": "python",
   "nbconvert_exporter": "python",
   "pygments_lexer": "ipython3",
   "version": "3.11.9"
  }
 },
 "nbformat": 4,
 "nbformat_minor": 5
}
